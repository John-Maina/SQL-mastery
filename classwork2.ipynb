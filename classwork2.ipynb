{
 "cells": [
  {
   "cell_type": "code",
   "execution_count": 2,
   "metadata": {},
   "outputs": [],
   "source": [
    "%%capture\n",
    "%load_ext sql\n",
    "%sql sqlite:///Jobs.db"
   ]
  },
  {
   "cell_type": "code",
   "execution_count": 3,
   "metadata": {},
   "outputs": [],
   "source": [
    "#Question\n",
    "#Say we wanted to get the Majors in which the unemployment rate is..\n",
    "#..greater than the average rate of unemployment."
   ]
  },
  {
   "cell_type": "code",
   "execution_count": 8,
   "metadata": {},
   "outputs": [],
   "source": [
    "#Solution method 1 ; takes two steps. First step is to get the AVG"
   ]
  },
  {
   "cell_type": "code",
   "execution_count": 7,
   "metadata": {},
   "outputs": [
    {
     "name": "stdout",
     "output_type": "stream",
     "text": [
      " * sqlite:///Jobs.db\n",
      "Done.\n"
     ]
    },
    {
     "data": {
      "text/html": [
       "<table>\n",
       "    <thead>\n",
       "        <tr>\n",
       "            <th>AVG(Unemployment_rate)</th>\n",
       "        </tr>\n",
       "    </thead>\n",
       "    <tbody>\n",
       "        <tr>\n",
       "            <td>0.06858728923255816</td>\n",
       "        </tr>\n",
       "    </tbody>\n",
       "</table>"
      ],
      "text/plain": [
       "[(0.06858728923255816,)]"
      ]
     },
     "execution_count": 7,
     "metadata": {},
     "output_type": "execute_result"
    }
   ],
   "source": [
    "%%sql\n",
    "SELECT AVG(Unemployment_rate)\n",
    "FROM recent_grads;"
   ]
  },
  {
   "cell_type": "code",
   "execution_count": 9,
   "metadata": {},
   "outputs": [
    {
     "name": "stdout",
     "output_type": "stream",
     "text": [
      " * sqlite:///Jobs.db\n",
      "Done.\n"
     ]
    },
    {
     "data": {
      "text/html": [
       "<table>\n",
       "    <thead>\n",
       "        <tr>\n",
       "            <th>Major</th>\n",
       "            <th>Unemployment_rate</th>\n",
       "        </tr>\n",
       "    </thead>\n",
       "    <tbody>\n",
       "        <tr>\n",
       "            <td>MINING AND MINERAL ENGINEERING</td>\n",
       "            <td>0.117241379</td>\n",
       "        </tr>\n",
       "        <tr>\n",
       "            <td>NUCLEAR ENGINEERING</td>\n",
       "            <td>0.177226407</td>\n",
       "        </tr>\n",
       "        <tr>\n",
       "            <td>ACTUARIAL SCIENCE</td>\n",
       "            <td>0.095652174</td>\n",
       "        </tr>\n",
       "        <tr>\n",
       "            <td>BIOMEDICAL ENGINEERING</td>\n",
       "            <td>0.09208386</td>\n",
       "        </tr>\n",
       "        <tr>\n",
       "            <td>BIOLOGICAL ENGINEERING</td>\n",
       "            <td>0.087143069</td>\n",
       "        </tr>\n",
       "        <tr>\n",
       "            <td>FOOD SCIENCE</td>\n",
       "            <td>0.09693146</td>\n",
       "        </tr>\n",
       "        <tr>\n",
       "            <td>ELECTRICAL ENGINEERING TECHNOLOGY</td>\n",
       "            <td>0.087557114</td>\n",
       "        </tr>\n",
       "        <tr>\n",
       "            <td>CIVIL ENGINEERING</td>\n",
       "            <td>0.07060957400000001</td>\n",
       "        </tr>\n",
       "        <tr>\n",
       "            <td>MISCELLANEOUS ENGINEERING</td>\n",
       "            <td>0.074392523</td>\n",
       "        </tr>\n",
       "        <tr>\n",
       "            <td>PUBLIC POLICY</td>\n",
       "            <td>0.128426299</td>\n",
       "        </tr>\n",
       "    </tbody>\n",
       "</table>"
      ],
      "text/plain": [
       "[('MINING AND MINERAL ENGINEERING', 0.117241379),\n",
       " ('NUCLEAR ENGINEERING', 0.177226407),\n",
       " ('ACTUARIAL SCIENCE', 0.095652174),\n",
       " ('BIOMEDICAL ENGINEERING', 0.09208386),\n",
       " ('BIOLOGICAL ENGINEERING', 0.087143069),\n",
       " ('FOOD SCIENCE', 0.09693146),\n",
       " ('ELECTRICAL ENGINEERING TECHNOLOGY', 0.087557114),\n",
       " ('CIVIL ENGINEERING', 0.07060957400000001),\n",
       " ('MISCELLANEOUS ENGINEERING', 0.074392523),\n",
       " ('PUBLIC POLICY', 0.128426299)]"
      ]
     },
     "execution_count": 9,
     "metadata": {},
     "output_type": "execute_result"
    }
   ],
   "source": [
    "%%sql\n",
    "SELECT Major, Unemployment_rate\n",
    "FROM recent_grads\n",
    "WHERE Unemployment_rate > 0.06858728923255816\n",
    "LIMIT 10;"
   ]
  },
  {
   "cell_type": "code",
   "execution_count": 1,
   "metadata": {},
   "outputs": [],
   "source": [
    "# Method 2 using Subqueries\n",
    "# This will involve embedding the first query into the second query"
   ]
  },
  {
   "cell_type": "code",
   "execution_count": 3,
   "metadata": {},
   "outputs": [
    {
     "name": "stdout",
     "output_type": "stream",
     "text": [
      " * sqlite:///Jobs.db\n",
      "Done.\n"
     ]
    },
    {
     "data": {
      "text/html": [
       "<table>\n",
       "    <thead>\n",
       "        <tr>\n",
       "            <th>Major</th>\n",
       "            <th>Unemployment_rate</th>\n",
       "        </tr>\n",
       "    </thead>\n",
       "    <tbody>\n",
       "        <tr>\n",
       "            <td>MINING AND MINERAL ENGINEERING</td>\n",
       "            <td>0.117241379</td>\n",
       "        </tr>\n",
       "        <tr>\n",
       "            <td>NUCLEAR ENGINEERING</td>\n",
       "            <td>0.177226407</td>\n",
       "        </tr>\n",
       "        <tr>\n",
       "            <td>ACTUARIAL SCIENCE</td>\n",
       "            <td>0.095652174</td>\n",
       "        </tr>\n",
       "        <tr>\n",
       "            <td>BIOMEDICAL ENGINEERING</td>\n",
       "            <td>0.09208386</td>\n",
       "        </tr>\n",
       "        <tr>\n",
       "            <td>BIOLOGICAL ENGINEERING</td>\n",
       "            <td>0.087143069</td>\n",
       "        </tr>\n",
       "        <tr>\n",
       "            <td>FOOD SCIENCE</td>\n",
       "            <td>0.09693146</td>\n",
       "        </tr>\n",
       "        <tr>\n",
       "            <td>ELECTRICAL ENGINEERING TECHNOLOGY</td>\n",
       "            <td>0.087557114</td>\n",
       "        </tr>\n",
       "        <tr>\n",
       "            <td>CIVIL ENGINEERING</td>\n",
       "            <td>0.07060957400000001</td>\n",
       "        </tr>\n",
       "        <tr>\n",
       "            <td>MISCELLANEOUS ENGINEERING</td>\n",
       "            <td>0.074392523</td>\n",
       "        </tr>\n",
       "        <tr>\n",
       "            <td>PUBLIC POLICY</td>\n",
       "            <td>0.128426299</td>\n",
       "        </tr>\n",
       "    </tbody>\n",
       "</table>"
      ],
      "text/plain": [
       "[('MINING AND MINERAL ENGINEERING', 0.117241379),\n",
       " ('NUCLEAR ENGINEERING', 0.177226407),\n",
       " ('ACTUARIAL SCIENCE', 0.095652174),\n",
       " ('BIOMEDICAL ENGINEERING', 0.09208386),\n",
       " ('BIOLOGICAL ENGINEERING', 0.087143069),\n",
       " ('FOOD SCIENCE', 0.09693146),\n",
       " ('ELECTRICAL ENGINEERING TECHNOLOGY', 0.087557114),\n",
       " ('CIVIL ENGINEERING', 0.07060957400000001),\n",
       " ('MISCELLANEOUS ENGINEERING', 0.074392523),\n",
       " ('PUBLIC POLICY', 0.128426299)]"
      ]
     },
     "execution_count": 3,
     "metadata": {},
     "output_type": "execute_result"
    }
   ],
   "source": [
    "%%sql\n",
    "SELECT Major, Unemployment_rate\n",
    "FROM recent_grads\n",
    "WHERE Unemployment_rate > (\n",
    "    SELECT AVG(Unemployment_rate)\n",
    "    FROM recent_grads\n",
    ")\n",
    "LIMIT 10;"
   ]
  },
  {
   "cell_type": "code",
   "execution_count": null,
   "metadata": {},
   "outputs": [],
   "source": [
    "# We could want to understand the proportion of majors\n",
    "# whose ShareWomen is above average."
   ]
  },
  {
   "cell_type": "code",
   "execution_count": 5,
   "metadata": {},
   "outputs": [
    {
     "name": "stdout",
     "output_type": "stream",
     "text": [
      " * sqlite:///Jobs.db\n",
      "Done.\n"
     ]
    },
    {
     "data": {
      "text/html": [
       "<table>\n",
       "    <thead>\n",
       "        <tr>\n",
       "            <th>average</th>\n",
       "        </tr>\n",
       "    </thead>\n",
       "    <tbody>\n",
       "        <tr>\n",
       "            <td>0.5225502029537575</td>\n",
       "        </tr>\n",
       "    </tbody>\n",
       "</table>"
      ],
      "text/plain": [
       "[(0.5225502029537575,)]"
      ]
     },
     "execution_count": 5,
     "metadata": {},
     "output_type": "execute_result"
    }
   ],
   "source": [
    "%%sql\n",
    "SELECT AVG(ShareWomen) AS average\n",
    "FROM recent_grads;"
   ]
  },
  {
   "cell_type": "code",
   "execution_count": 8,
   "metadata": {},
   "outputs": [
    {
     "name": "stdout",
     "output_type": "stream",
     "text": [
      " * sqlite:///Jobs.db\n",
      "Done.\n"
     ]
    },
    {
     "data": {
      "text/html": [
       "<table>\n",
       "    <thead>\n",
       "        <tr>\n",
       "            <th>sum</th>\n",
       "        </tr>\n",
       "    </thead>\n",
       "    <tbody>\n",
       "        <tr>\n",
       "            <td>91</td>\n",
       "        </tr>\n",
       "    </tbody>\n",
       "</table>"
      ],
      "text/plain": [
       "[(91,)]"
      ]
     },
     "execution_count": 8,
     "metadata": {},
     "output_type": "execute_result"
    }
   ],
   "source": [
    "%%sql\n",
    "SELECT COUNT(Major) AS sum\n",
    "FROM recent_grads\n",
    "WHERE ShareWomen > (\n",
    "    SELECT AVG(ShareWomen) AS average\n",
    "FROM recent_grads\n",
    ");"
   ]
  },
  {
   "cell_type": "code",
   "execution_count": 9,
   "metadata": {},
   "outputs": [
    {
     "name": "stdout",
     "output_type": "stream",
     "text": [
      " * sqlite:///Jobs.db\n",
      "Done.\n"
     ]
    },
    {
     "data": {
      "text/html": [
       "<table>\n",
       "    <thead>\n",
       "        <tr>\n",
       "            <th>COUNT(Major)</th>\n",
       "        </tr>\n",
       "    </thead>\n",
       "    <tbody>\n",
       "        <tr>\n",
       "            <td>173</td>\n",
       "        </tr>\n",
       "    </tbody>\n",
       "</table>"
      ],
      "text/plain": [
       "[(173,)]"
      ]
     },
     "execution_count": 9,
     "metadata": {},
     "output_type": "execute_result"
    }
   ],
   "source": [
    "%%sql\n",
    "SELECT COUNT(Major)\n",
    "FROM recent_grads;"
   ]
  },
  {
   "cell_type": "code",
   "execution_count": 10,
   "metadata": {},
   "outputs": [],
   "source": [
    "# To divide the sum of majors above average by the total majors to get the proportion"
   ]
  },
  {
   "cell_type": "code",
   "execution_count": 14,
   "metadata": {},
   "outputs": [
    {
     "name": "stdout",
     "output_type": "stream",
     "text": [
      " * sqlite:///Jobs.db\n",
      "Done.\n"
     ]
    },
    {
     "data": {
      "text/html": [
       "<table>\n",
       "    <thead>\n",
       "        <tr>\n",
       "            <th>proportion</th>\n",
       "        </tr>\n",
       "    </thead>\n",
       "    <tbody>\n",
       "        <tr>\n",
       "            <td>0.5260115606936416</td>\n",
       "        </tr>\n",
       "    </tbody>\n",
       "</table>"
      ],
      "text/plain": [
       "[(0.5260115606936416,)]"
      ]
     },
     "execution_count": 14,
     "metadata": {},
     "output_type": "execute_result"
    }
   ],
   "source": [
    "%%sql\n",
    "SELECT CAST(COUNT(Major)AS Float) / (\n",
    "    SELECT COUNT(Major)\n",
    "    FROM recent_grads\n",
    ") AS proportion\n",
    "FROM recent_grads\n",
    "WHERE ShareWomen > (\n",
    "    SELECT AVG(ShareWomen) AS average\n",
    "FROM recent_grads\n",
    ");"
   ]
  },
  {
   "cell_type": "code",
   "execution_count": 15,
   "metadata": {},
   "outputs": [],
   "source": [
    "# IN operator"
   ]
  },
  {
   "cell_type": "code",
   "execution_count": 17,
   "metadata": {},
   "outputs": [
    {
     "name": "stdout",
     "output_type": "stream",
     "text": [
      " * sqlite:///Jobs.db\n",
      "Done.\n"
     ]
    },
    {
     "data": {
      "text/html": [
       "<table>\n",
       "    <thead>\n",
       "        <tr>\n",
       "            <th>Major</th>\n",
       "            <th>Major_category</th>\n",
       "        </tr>\n",
       "    </thead>\n",
       "    <tbody>\n",
       "        <tr>\n",
       "            <td>PETROLEUM ENGINEERING</td>\n",
       "            <td>Engineering</td>\n",
       "        </tr>\n",
       "        <tr>\n",
       "            <td>MINING AND MINERAL ENGINEERING</td>\n",
       "            <td>Engineering</td>\n",
       "        </tr>\n",
       "        <tr>\n",
       "            <td>METALLURGICAL ENGINEERING</td>\n",
       "            <td>Engineering</td>\n",
       "        </tr>\n",
       "        <tr>\n",
       "            <td>NAVAL ARCHITECTURE AND MARINE ENGINEERING</td>\n",
       "            <td>Engineering</td>\n",
       "        </tr>\n",
       "        <tr>\n",
       "            <td>CHEMICAL ENGINEERING</td>\n",
       "            <td>Engineering</td>\n",
       "        </tr>\n",
       "        <tr>\n",
       "            <td>NUCLEAR ENGINEERING</td>\n",
       "            <td>Engineering</td>\n",
       "        </tr>\n",
       "        <tr>\n",
       "            <td>ACTUARIAL SCIENCE</td>\n",
       "            <td>Business</td>\n",
       "        </tr>\n",
       "        <tr>\n",
       "            <td>MECHANICAL ENGINEERING</td>\n",
       "            <td>Engineering</td>\n",
       "        </tr>\n",
       "        <tr>\n",
       "            <td>ELECTRICAL ENGINEERING</td>\n",
       "            <td>Engineering</td>\n",
       "        </tr>\n",
       "        <tr>\n",
       "            <td>COMPUTER ENGINEERING</td>\n",
       "            <td>Engineering</td>\n",
       "        </tr>\n",
       "    </tbody>\n",
       "</table>"
      ],
      "text/plain": [
       "[('PETROLEUM ENGINEERING', 'Engineering'),\n",
       " ('MINING AND MINERAL ENGINEERING', 'Engineering'),\n",
       " ('METALLURGICAL ENGINEERING', 'Engineering'),\n",
       " ('NAVAL ARCHITECTURE AND MARINE ENGINEERING', 'Engineering'),\n",
       " ('CHEMICAL ENGINEERING', 'Engineering'),\n",
       " ('NUCLEAR ENGINEERING', 'Engineering'),\n",
       " ('ACTUARIAL SCIENCE', 'Business'),\n",
       " ('MECHANICAL ENGINEERING', 'Engineering'),\n",
       " ('ELECTRICAL ENGINEERING', 'Engineering'),\n",
       " ('COMPUTER ENGINEERING', 'Engineering')]"
      ]
     },
     "execution_count": 17,
     "metadata": {},
     "output_type": "execute_result"
    }
   ],
   "source": [
    "%%sql\n",
    "SELECT Major, Major_category\n",
    "FROM recent_grads\n",
    "WHERE Major_category IN (\"Engineering\", \"Business\")\n",
    "LIMIT 10;"
   ]
  },
  {
   "cell_type": "code",
   "execution_count": 20,
   "metadata": {},
   "outputs": [
    {
     "name": "stdout",
     "output_type": "stream",
     "text": [
      "2\n"
     ]
    }
   ],
   "source": [
    "l = [6, 2, 3, 9, 3, 4]\n",
    "print(l.index(3))"
   ]
  },
  {
   "cell_type": "code",
   "execution_count": null,
   "metadata": {},
   "outputs": [],
   "source": []
  }
 ],
 "metadata": {
  "kernelspec": {
   "display_name": "base",
   "language": "python",
   "name": "python3"
  },
  "language_info": {
   "codemirror_mode": {
    "name": "ipython",
    "version": 3
   },
   "file_extension": ".py",
   "mimetype": "text/x-python",
   "name": "python",
   "nbconvert_exporter": "python",
   "pygments_lexer": "ipython3",
   "version": "3.9.12"
  },
  "orig_nbformat": 4
 },
 "nbformat": 4,
 "nbformat_minor": 2
}
